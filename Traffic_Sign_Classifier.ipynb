{
 "cells": [
  {
   "cell_type": "markdown",
   "metadata": {},
   "source": [
    "# Self-Driving Car Engineer Nanodegree\n",
    "\n",
    "## Deep Learning\n",
    "\n",
    "## Project: Build a Traffic Sign Recognition Classifier\n",
    "\n",
    "In this notebook, a template is provided for you to implement your functionality in stages, which is required to successfully complete this project. If additional code is required that cannot be included in the notebook, be sure that the Python code is successfully imported and included in your submission if necessary. \n",
    "\n",
    "> **Note**: Once you have completed all of the code implementations, you need to finalize your work by exporting the iPython Notebook as an HTML document. Before exporting the notebook to html, all of the code cells need to have been run so that reviewers can see the final implementation and output. You can then export the notebook by using the menu above and navigating to  \\n\",\n",
    "    \"**File -> Download as -> HTML (.html)**. Include the finished document along with this notebook as your submission. \n",
    "\n",
    "In addition to implementing code, there is a writeup to complete. The writeup should be completed in a separate file, which can be either a markdown file or a pdf document. There is a [write up template](https://github.com/udacity/CarND-Traffic-Sign-Classifier-Project/blob/master/writeup_template.md) that can be used to guide the writing process. Completing the code template and writeup template will cover all of the [rubric points](https://review.udacity.com/#!/rubrics/481/view) for this project.\n",
    "\n",
    "The [rubric](https://review.udacity.com/#!/rubrics/481/view) contains \"Stand Out Suggestions\" for enhancing the project beyond the minimum requirements. The stand out suggestions are optional. If you decide to pursue the \"stand out suggestions\", you can include the code in this Ipython notebook and also discuss the results in the writeup file.\n",
    "\n",
    "\n",
    ">**Note:** Code and Markdown cells can be executed using the **Shift + Enter** keyboard shortcut. In addition, Markdown cells can be edited by typically double-clicking the cell to enter edit mode."
   ]
  },
  {
   "cell_type": "markdown",
   "metadata": {},
   "source": [
    "---\n",
    "## Step 0: Load The Data"
   ]
  },
  {
   "cell_type": "code",
   "execution_count": 1,
   "metadata": {},
   "outputs": [
    {
     "name": "stdout",
     "output_type": "stream",
     "text": [
      "Loaded Data\n"
     ]
    }
   ],
   "source": [
    "# Load pickled data\n",
    "import pickle\n",
    "import csv\n",
    "\n",
    "training_file = 'dataset/train.p' \n",
    "validation_file= 'dataset/valid.p'\n",
    "testing_file =  'dataset/test.p'\n",
    "\n",
    "with open(training_file, mode='rb') as f:\n",
    "    train = pickle.load(f)\n",
    "with open(validation_file, mode='rb') as f:\n",
    "    valid = pickle.load(f)\n",
    "with open(testing_file, mode='rb') as f:\n",
    "    test = pickle.load(f)\n",
    "    \n",
    "X_train, y_train = train['features'], train['labels']\n",
    "X_valid, y_valid = valid['features'], valid['labels']\n",
    "X_test, y_test = test['features'], test['labels']\n",
    "\n",
    "print('Loaded Data')"
   ]
  },
  {
   "cell_type": "markdown",
   "metadata": {},
   "source": [
    "---\n",
    "\n",
    "## Step 1: Dataset Summary & Exploration\n"
   ]
  },
  {
   "cell_type": "code",
   "execution_count": 2,
   "metadata": {},
   "outputs": [
    {
     "name": "stdout",
     "output_type": "stream",
     "text": [
      "Number of training examples = 34799\n",
      "Number of Validation examples =  4410\n",
      "Number of testing examples = 12630\n",
      "Image data shape = (32, 32, 3)\n",
      "Number of classes = 43\n"
     ]
    }
   ],
   "source": [
    "# Number of training examples\n",
    "n_train = len(X_train)\n",
    "\n",
    "#Number of validation examples\n",
    "n_validation = len(X_valid)\n",
    "\n",
    "#Number of testing examples.\n",
    "n_test = len(X_test)\n",
    "\n",
    "# verify the number of inputs and labels are same \n",
    "assert(len(X_train) == len(y_train))\n",
    "assert(len(X_valid) == len(y_valid))\n",
    "assert(len(X_test) == len(y_test))\n",
    "\n",
    "# Shape of an traffic sign image\n",
    "image_shape = X_train[0].shape\n",
    "\n",
    "class_names= []\n",
    "class_id = []\n",
    "with open('signnames.csv') as file:\n",
    "    reader = csv.reader(file, delimiter=',')\n",
    "    s=0\n",
    "    for row in reader:\n",
    "        if s!=0:\n",
    "            class_id.append(row[0])\n",
    "            class_names.append(row[1])\n",
    "        s=s+1\n",
    "        \n",
    "# Number of unique classes/labels there are in the dataset.\n",
    "n_classes = s-1 # to exclude the headings in the csv file\n",
    "\n",
    "print(\"Number of training examples =\", n_train)\n",
    "print (\"Number of Validation examples = \", n_validation)\n",
    "print(\"Number of testing examples =\", n_test)\n",
    "print(\"Image data shape =\", image_shape)\n",
    "print(\"Number of classes =\", n_classes)"
   ]
  },
  {
   "cell_type": "markdown",
   "metadata": {},
   "source": [
    "### Include an exploratory visualization of the dataset"
   ]
  },
  {
   "cell_type": "markdown",
   "metadata": {},
   "source": [
    "Visualize the German Traffic Signs Dataset using the pickled file(s). This is open ended, suggestions include: plotting traffic sign images, plotting the count of each sign, etc. \n",
    "\n",
    "The [Matplotlib](http://matplotlib.org/) [examples](http://matplotlib.org/examples/index.html) and [gallery](http://matplotlib.org/gallery.html) pages are a great resource for doing visualizations in Python.\n",
    "\n",
    "**NOTE:** It's recommended you start with something simple first. If you wish to do more, come back to it after you've completed the rest of the sections. It can be interesting to look at the distribution of classes in the training, validation and test set. Is the distribution the same? Are there more examples of some classes than others?"
   ]
  },
  {
   "cell_type": "code",
   "execution_count": 3,
   "metadata": {},
   "outputs": [
    {
     "data": {
      "image/png": "[encoded data removed]",
      "text/plain": [
       "<matplotlib.figure.Figure at 0x7f35140d4da0>"
      ]
     },
     "metadata": {},
     "output_type": "display_data"
    },
    {
     "data": {
      "image/png": "[encoded data removed]",
      "text/plain": [
       "<matplotlib.figure.Figure at 0x7f34eace74e0>"
      ]
     },
     "metadata": {},
     "output_type": "display_data"
    }
   ],
   "source": [
    "import random\n",
    "import pandas as pd\n",
    "import numpy  as np\n",
    "import matplotlib.pyplot as plt\n",
    "# Visualizations will be shown in the notebook.\n",
    "%matplotlib inline\n",
    "\n",
    "# Displaying random image from the dataset\n",
    "idx = random.randint(0,len(X_train))\n",
    "image = X_train[idx]\n",
    "plt.figure()\n",
    "plt.title(class_names[y_train[idx]])\n",
    "plt.imshow(image,cmap = \"gray\")\n",
    "plt.show()\n",
    "\n",
    "# Visualizing the dataset distribution\n",
    "train_bin = np.bincount(y_train)\n",
    "test_bin = np.bincount(y_test)\n",
    "valid_bin = np.bincount(y_valid)\n",
    "\n",
    "index = np.arange(n_classes)\n",
    "plt.bar(index, train_bin,  alpha=0.5, label='Training set')\n",
    "plt.bar(index, valid_bin,  alpha=0.3, label='Validation set')\n",
    "plt.bar(index, test_bin,  alpha=0.3, label='Testing set')\n",
    "plt.title('Distribution of data ')\n",
    "plt.xlabel('Classes')\n",
    "plt.ylabel('Number of data points')\n",
    "plt.legend()\n",
    "plt.savefig('Distribution.jpg')\n"
   ]
  },
  {
   "cell_type": "markdown",
   "metadata": {},
   "source": [
    "----\n",
    "\n",
    "## Step 2: Design and Test a Model Architecture\n",
    "\n"
   ]
  },
  {
   "cell_type": "markdown",
   "metadata": {},
   "source": [
    "### Pre-process the Data Set (normalization, grayscale, etc.)"
   ]
  },
  {
   "cell_type": "markdown",
   "metadata": {},
   "source": [
    "Minimally, the image data should be normalized so that the data has mean zero and equal variance. For image data, `(pixel - 128)/ 128` is a quick way to approximately normalize the data and can be used in this project. \n",
    "\n",
    "Other pre-processing steps are optional. You can try different techniques to see if it improves performance. \n",
    "\n",
    "Use the code cell (or multiple code cells, if necessary) to implement the first step of your project."
   ]
  },
  {
   "cell_type": "code",
   "execution_count": 4,
   "metadata": {},
   "outputs": [
    {
     "name": "stdout",
     "output_type": "stream",
     "text": [
      "Processed dataset\n"
     ]
    }
   ],
   "source": [
    "import cv2\n",
    "\n",
    "# converting input images array into grayscale\n",
    "def rgb_gray(input):\n",
    "    n_images , width , height , channels = input.shape\n",
    "    gray_imgs = np.empty([n_images , width , height])\n",
    "    for img in range(n_images):\n",
    "        gray_imgs[img] = cv2.cvtColor(input[img],cv2.COLOR_BGR2GRAY)\n",
    "        \n",
    "    return np.expand_dims(gray_imgs,axis=3)\n",
    "\n",
    "# Function to normalize the input pixel values\n",
    "def normalize(input):\n",
    "    return (input-128.0)/128.0\n",
    "    \n",
    "## Processing the data using the two above functions\n",
    "X_train = normalize(rgb_gray(X_train))\n",
    "X_test = normalize(rgb_gray(X_test))\n",
    "X_valid = normalize(rgb_gray(X_valid))\n",
    "\n",
    "print('Processed dataset')\n"
   ]
  },
  {
   "cell_type": "markdown",
   "metadata": {},
   "source": [
    "### Model Architecture"
   ]
  },
  {
   "cell_type": "code",
   "execution_count": 5,
   "metadata": {
    "collapsed": true
   },
   "outputs": [],
   "source": [
    "import tensorflow as tf\n",
    "from tensorflow.contrib.layers import flatten\n",
    "\n",
    "def Net(x, keep_prob):    \n",
    "    # Arguments used for tf.truncated_normal, randomly defines variables for the weights and biases for each layer\n",
    "    mu = 0\n",
    "    sigma = 0.1\n",
    "    \n",
    "    # Layer 1: Convolutional. Input = 32x32x1. Output = 28x28x16.\n",
    "    conv1_W = tf.Variable(tf.truncated_normal(shape=(5, 5, 1, 16), mean = mu, stddev = sigma))\n",
    "    conv1_b = tf.Variable(tf.zeros(16))\n",
    "    conv1   = tf.nn.conv2d(x, conv1_W, strides=[1, 1, 1, 1], padding='VALID') + conv1_b\n",
    "    #Activation.\n",
    "    conv1 = tf.nn.relu(conv1)\n",
    "    \n",
    "    \n",
    "    # Layer 2: Convolutional. Input = 28x28x16. Output = 26x26x16.\n",
    "    conv2_W = tf.Variable(tf.truncated_normal(shape=(3, 3, 16, 16), mean = mu, stddev = sigma))\n",
    "    conv2_b = tf.Variable(tf.zeros(16))\n",
    "    conv2   = tf.nn.conv2d(conv1, conv2_W, strides=[1, 1, 1, 1], padding='VALID') \n",
    "    #Activation.\n",
    "    conv2 = tf.nn.relu(conv2)\n",
    "    \n",
    "    # Layer 3: Convolutional. Input = 26x26x16. Output = 24x24x32.\n",
    "    conv3_W = tf.Variable(tf.truncated_normal(shape=(3, 3, 16, 32), mean = mu, stddev = sigma))\n",
    "    conv3_b = tf.Variable(tf.zeros(32))\n",
    "    conv3   = tf.nn.conv2d(conv2, conv3_W, strides=[1, 1, 1, 1], padding='VALID') + conv3_b\n",
    "    #Activation.\n",
    "    conv3 = tf.nn.relu(conv3)\n",
    "    \n",
    "    # Pooling. Input = 24x24x32. Output = 12x12x32.\n",
    "    conv3 = tf.nn.max_pool(conv3, ksize=[1, 2, 2, 1], strides=[1, 2, 2, 1], padding='VALID')\n",
    "    conv3 = tf.nn.dropout(conv3, keep_prob)\n",
    "    \n",
    "    # Layer 4: Convolutional. Input = 12x12x32. Output = 10x10x64.\n",
    "    conv4_W = tf.Variable(tf.truncated_normal(shape=(3, 3, 32, 64), mean = mu, stddev = sigma))\n",
    "    conv4_b = tf.Variable(tf.zeros(64))\n",
    "    conv4   = tf.nn.conv2d(conv3, conv4_W, strides=[1, 1, 1, 1], padding='VALID') + conv4_b\n",
    "    #Activation.\n",
    "    conv4 = tf.nn.relu(conv4)\n",
    "    \n",
    "    # Layer 5: Convolutional. Input = 10x10x64. Output = 8x8x64.\n",
    "    conv5_W = tf.Variable(tf.truncated_normal(shape=(3, 3, 64, 64), mean = mu, stddev = sigma))\n",
    "    conv5_b = tf.Variable(tf.zeros(64))\n",
    "    conv5   = tf.nn.conv2d(conv4, conv5_W, strides=[1, 1, 1, 1], padding='VALID') + conv5_b\n",
    "    #Activation.\n",
    "    conv5 = tf.nn.relu(conv5)\n",
    "    \n",
    "    # Pooling. Input = 8x8x64. Output = 4*4*64.\n",
    "    conv5 = tf.nn.max_pool(conv5, ksize=[1, 2, 2, 1], strides=[1, 2, 2, 1], padding='VALID')\n",
    "    conv5 = tf.nn.dropout(conv5 , keep_prob)\n",
    "    \n",
    "    # Flatten. Input = 4x4x64. Output = 1024.\n",
    "    fc0   = flatten(conv5)\n",
    "    \n",
    "    # Fully Connected. Input = 1024. Output = 512.\n",
    "    fc1_W = tf.Variable(tf.truncated_normal(shape=(1024, 512), mean = mu, stddev = sigma))\n",
    "    fc1_b = tf.Variable(tf.zeros(512))\n",
    "    fc1   = tf.matmul(fc0, fc1_W) + fc1_b\n",
    "    # Activation.\n",
    "    fc1    = tf.nn.relu(fc1)\n",
    "    \n",
    "    fc1 = tf.nn.dropout(fc1, keep_prob)\n",
    "    \n",
    "    # Fully Connected. Input = 512. Output = 256.\n",
    "    fc2_W  = tf.Variable(tf.truncated_normal(shape=(512,256), mean = mu, stddev = sigma))\n",
    "    fc2_b  = tf.Variable(tf.zeros(256))\n",
    "    fc2    = tf.matmul(fc1, fc2_W) + fc2_b\n",
    "    # Activation.\n",
    "    fc2    = tf.nn.relu(fc2)\n",
    "    fc2 = tf.nn.dropout(fc2, keep_prob)\n",
    "    \n",
    "    # Fully Connected. Input = 256. Output = 128.\n",
    "    fc3_W  = tf.Variable(tf.truncated_normal(shape=(256,128), mean = mu, stddev = sigma))\n",
    "    fc3_b  = tf.Variable(tf.zeros(128))\n",
    "    fc3 = tf.matmul(fc2, fc3_W) + fc3_b\n",
    "    fc3    = tf.nn.relu(fc3)\n",
    "    fc3 = tf.nn.dropout(fc3, keep_prob)\n",
    "    \n",
    "    # Fully Connected. Input = 128. Output = n_classes.\n",
    "    fc4_W  = tf.Variable(tf.truncated_normal(shape=(128,n_classes), mean = mu, stddev = sigma))\n",
    "    fc4_b  = tf.Variable(tf.zeros(n_classes))\n",
    "    logits = tf.matmul(fc3, fc4_W) + fc4_b\n",
    "    \n",
    "    return logits\n",
    "\n"
   ]
  },
  {
   "cell_type": "code",
   "execution_count": 6,
   "metadata": {
    "collapsed": true
   },
   "outputs": [],
   "source": [
    "x = tf.placeholder(tf.float32, (None, 32, 32, 1))\n",
    "y = tf.placeholder(tf.int32, (None))\n",
    "one_hot_y = tf.one_hot(y, n_classes)\n",
    "keep_prob = tf.placeholder(tf.float32)\n",
    "rate = 0.001\n",
    "\n",
    "logits = Net(x,keep_prob)\n",
    "cross_entropy = tf.nn.softmax_cross_entropy_with_logits(labels=one_hot_y, logits=logits)\n",
    "loss_operation = tf.reduce_mean(cross_entropy)\n",
    "optimizer = tf.train.AdamOptimizer(learning_rate = rate)\n",
    "training_operation = optimizer.minimize(loss_operation)\n",
    "\n",
    "correct_prediction = tf.equal(tf.argmax(logits, 1), tf.argmax(one_hot_y, 1))\n",
    "accuracy_operation = tf.reduce_mean(tf.cast(correct_prediction, tf.float32))\n",
    "saver = tf.train.Saver()\n",
    "\n",
    "def evaluate(X_data, y_data):\n",
    "    num_examples = len(X_data)\n",
    "    total_accuracy = 0\n",
    "    sess = tf.get_default_session()\n",
    "    for offset in range(0, num_examples, BATCH_SIZE):\n",
    "        batch_x, batch_y = X_data[offset:offset+BATCH_SIZE], y_data[offset:offset+BATCH_SIZE]\n",
    "        accuracy = sess.run(accuracy_operation, feed_dict={x: batch_x, y: batch_y,keep_prob:1})\n",
    "        total_accuracy += (accuracy * len(batch_x))\n",
    "    return total_accuracy / num_examples\n",
    "\n"
   ]
  },
  {
   "cell_type": "markdown",
   "metadata": {},
   "source": [
    "### Train, Validate and Test the Model"
   ]
  },
  {
   "cell_type": "markdown",
   "metadata": {},
   "source": [
    "A validation set can be used to assess how well the model is performing. A low accuracy on the training and validation\n",
    "sets imply underfitting. A high accuracy on the training set but low accuracy on the validation set implies overfitting."
   ]
  },
  {
   "cell_type": "code",
   "execution_count": 7,
   "metadata": {},
   "outputs": [
    {
     "name": "stdout",
     "output_type": "stream",
     "text": [
      "Training...\n",
      "\n",
      "EPOCH 1 ...\n",
      "Validation Accuracy = 81.066%\n",
      "\n",
      "EPOCH 2 ...\n",
      "Validation Accuracy = 93.152%\n",
      "\n",
      "EPOCH 3 ...\n",
      "Validation Accuracy = 94.807%\n",
      "\n",
      "EPOCH 4 ...\n",
      "Validation Accuracy = 97.868%\n",
      "\n",
      "EPOCH 5 ...\n",
      "Validation Accuracy = 97.098%\n",
      "\n",
      "EPOCH 6 ...\n",
      "Validation Accuracy = 97.846%\n",
      "\n",
      "EPOCH 7 ...\n",
      "Validation Accuracy = 97.937%\n",
      "\n",
      "EPOCH 8 ...\n",
      "Validation Accuracy = 97.120%\n",
      "\n",
      "EPOCH 9 ...\n",
      "Validation Accuracy = 97.937%\n",
      "\n",
      "EPOCH 10 ...\n",
      "Validation Accuracy = 97.800%\n",
      "\n",
      "EPOCH 11 ...\n",
      "Validation Accuracy = 97.642%\n",
      "\n",
      "EPOCH 12 ...\n",
      "Validation Accuracy = 97.823%\n",
      "\n",
      "Model saved\n"
     ]
    }
   ],
   "source": [
    "from sklearn.utils import shuffle\n",
    "\n",
    "EPOCHS = 12\n",
    "BATCH_SIZE = 32\n",
    "DROPOUT = 0.6\n",
    "\n",
    "validation_accuracy = []\n",
    "\n",
    "with tf.Session() as sess:\n",
    "    sess.run(tf.global_variables_initializer())\n",
    "    \n",
    "    print(\"Training...\")\n",
    "    print()\n",
    "    for i in range(EPOCHS):\n",
    "        X_train, y_train = shuffle(X_train, y_train)\n",
    "        for offset in range(0, n_train, BATCH_SIZE):\n",
    "            end = offset + BATCH_SIZE\n",
    "            batch_x, batch_y = X_train[offset:end], y_train[offset:end]\n",
    "            sess.run(training_operation, feed_dict={x: batch_x, y: batch_y, keep_prob: DROPOUT})\n",
    "            \n",
    "        validation_accuracy.append(evaluate(X_valid, y_valid))\n",
    "        print(\"EPOCH {} ...\".format(i+1))\n",
    "        print(\"Validation Accuracy = {:.3f}%\".format(validation_accuracy[-1]*100.0))\n",
    "        print()\n",
    "        \n",
    "    saver.save(sess, './Net')\n",
    "    print(\"Model saved\")\n",
    "\n"
   ]
  },
  {
   "cell_type": "markdown",
   "metadata": {},
   "source": [
    "---\n",
    "\n",
    "## Step 3: Test a Model on New Images\n",
    "\n",
    "To give yourself more insight into how your model is working, download at least five pictures of German traffic signs from the web and use your model to predict the traffic sign type.\n",
    "\n",
    "You may find `signnames.csv` useful as it contains mappings from the class id (integer) to the actual sign name."
   ]
  },
  {
   "cell_type": "markdown",
   "metadata": {},
   "source": [
    "### Load and Output the Images"
   ]
  },
  {
   "cell_type": "code",
   "execution_count": 15,
   "metadata": {
    "collapsed": true
   },
   "outputs": [],
   "source": [
    "import os \n",
    "def load_images(dir):\n",
    "    images = []\n",
    "    class_id =[]\n",
    "    class_names = []\n",
    "    file_names = []\n",
    "    with open(os.path.join(dir , 'labels.csv')) as file:\n",
    "        reader = csv.reader(file, delimiter=',')\n",
    "        s=0\n",
    "        for row in reader:\n",
    "            if s!=0:\n",
    "                class_id.append(row[0])\n",
    "                class_names.append(row[1])\n",
    "                file_names.append(row[2])\n",
    "            s=s+1\n",
    "    for filename in file_names:\n",
    "        img = cv2.imread(filename)\n",
    "        if img is not None:\n",
    "            img = cv2.resize(img, (image_shape[0],image_shape[1]))\n",
    "            images.append(img)\n",
    "    return np.array(images), np.array(class_id)\n",
    "\n",
    "folder = 'test_images'\n",
    "imgs,labels = load_images(folder)\n",
    "\n",
    "# preprocessing\n",
    "imgs = rgb_gray(imgs)\n",
    "imgs = normalize(imgs)"
   ]
  },
  {
   "cell_type": "markdown",
   "metadata": {},
   "source": [
    "### Predict the Sign Type for Each Image"
   ]
  },
  {
   "cell_type": "code",
   "execution_count": 16,
   "metadata": {
    "collapsed": true
   },
   "outputs": [],
   "source": [
    "def prediction(image, label):\n",
    "    image = np.expand_dims(image,0)\n",
    "    sess = tf.get_default_session()\n",
    "    sm, accuracy = sess.run ([tf.nn.softmax(logits),accuracy_operation],feed_dict={x: image, y: [label], keep_prob: 1.0})\n",
    "    return sm, accuracy\n",
    "\n",
    "def get_top_k_softmax(softmax, k):\n",
    "    sess = tf.get_default_session()\n",
    "    top_k = sess.run(tf.nn.top_k(tf.constant(softmax), k=k))\n",
    "    return top_k\n",
    "\n"
   ]
  },
  {
   "cell_type": "code",
   "execution_count": 17,
   "metadata": {},
   "outputs": [
    {
     "name": "stdout",
     "output_type": "stream",
     "text": [
      "INFO:tensorflow:Restoring parameters from ./Net\n",
      "loaded model\n",
      "Actual label: 18, Top 5 predicted labels: [18 26 27 20 11], Top 5 softmax probabilities: [1.0000 0.0000 0.0000 0.0000 0.0000]\n",
      "Actual label: 13, Top 5 predicted labels: [13 15 38 35  1], Top 5 softmax probabilities: [0.9995 0.0002 0.0001 0.0000 0.0000]\n",
      "Actual label: 14, Top 5 predicted labels: [14 34 38 13 36], Top 5 softmax probabilities: [0.9993 0.0007 0.0000 0.0000 0.0000]\n",
      "Actual label: 35, Top 5 predicted labels: [35 12 15 38 26], Top 5 softmax probabilities: [1.0000 0.0000 0.0000 0.0000 0.0000]\n",
      "Actual label: 23, Top 5 predicted labels: [23 31 29 28 30], Top 5 softmax probabilities: [0.9864 0.0035 0.0027 0.0024 0.0020]\n"
     ]
    }
   ],
   "source": [
    "k=5\n",
    "total_accuracy = 0\n",
    "with tf.Session() as sess:\n",
    "    saver.restore(sess, './Net')\n",
    "    print('loaded model')\n",
    "    np.set_printoptions(formatter={'float': lambda x: \"{0:0.4f}\".format(x)})\n",
    "    for i in range (len(imgs)):\n",
    "        sm, accuracy = prediction(imgs[i],labels[i])\n",
    "        total_accuracy += accuracy\n",
    "        \n",
    "        top_k = get_top_k_softmax(sm,k)\n",
    "        \n",
    "        print('Actual label: {}, Top {} predicted labels: {}, Top {} softmax probabilities: {}'.format(labels[i], k, top_k[1][0], k, top_k[0][0]))"
   ]
  },
  {
   "cell_type": "markdown",
   "metadata": {},
   "source": [
    "### Analyze Performance"
   ]
  },
  {
   "cell_type": "code",
   "execution_count": 18,
   "metadata": {},
   "outputs": [
    {
     "name": "stdout",
     "output_type": "stream",
     "text": [
      "INFO:tensorflow:Restoring parameters from ./Net\n",
      "Model loaded\n",
      " Training set accuracy: 99.6724%\n",
      " Validation set accuracy: 97.8231%\n",
      " Testing set accuracy: 96.5162%\n"
     ]
    }
   ],
   "source": [
    "with tf.Session() as sess:\n",
    "    saver.restore(sess, './Net')\n",
    "    print('Model loaded')\n",
    "    \n",
    "    train_accuracy = evaluate(X_train, y_train)\n",
    "    valid_accuracy = evaluate(X_valid, y_valid)\n",
    "    test_accuracy = evaluate(X_test, y_test)\n",
    "    \n",
    "    print(' Training set accuracy: {:.4f}%'.format(train_accuracy*100.0))\n",
    "    print(' Validation set accuracy: {:.4f}%'.format(valid_accuracy*100.0))\n",
    "    print(' Testing set accuracy: {:.4f}%'.format(test_accuracy*100.0))"
   ]
  },
  {
   "cell_type": "code",
   "execution_count": 43,
   "metadata": {},
   "outputs": [
    {
     "name": "stdout",
     "output_type": "stream",
     "text": [
      "Total number of images tested: 5\n",
      "Number of correct predictions: 5, Number of incorrect predictions: 0\n",
      "Overall accuracy: 100.0%\n"
     ]
    }
   ],
   "source": [
    "print('Total number of images tested: {}'.format(len(imgs)))\n",
    "print('Number of correct predictions: {}, Number of incorrect predictions: {}'.format(int(total_accuracy), int(len(imgs)-total_accuracy)))\n",
    "print('Overall accuracy: {}%'.format(total_accuracy*100/len(imgs)))"
   ]
  },
  {
   "cell_type": "markdown",
   "metadata": {},
   "source": [
    "### Project Writeup\n",
    "\n",
    "Once you have completed the code implementation, document your results in a project writeup using this [template](https://github.com/udacity/CarND-Traffic-Sign-Classifier-Project/blob/master/writeup_template.md) as a guide. The writeup can be in a markdown or pdf file. "
   ]
  },
  {
   "cell_type": "markdown",
   "metadata": {},
   "source": [
    "> **Note**: Once you have completed all of the code implementations and successfully answered each question above, you may finalize your work by exporting the iPython Notebook as an HTML document. You can do this by using the menu above and navigating to  \\n\",\n",
    "    \"**File -> Download as -> HTML (.html)**. Include the finished document along with this notebook as your submission."
   ]
  },
  {
   "cell_type": "markdown",
   "metadata": {},
   "source": [
    "---\n",
    "\n",
    "## Step 4 (Optional): Visualize the Neural Network's State with Test Images\n",
    "\n",
    " This Section is not required to complete but acts as an additional excersise for understaning the output of a neural network's weights. While neural networks can be a great learning device they are often referred to as a black box. We can understand what the weights of a neural network look like better by plotting their feature maps. After successfully training your neural network you can see what it's feature maps look like by plotting the output of the network's weight layers in response to a test stimuli image. From these plotted feature maps, it's possible to see what characteristics of an image the network finds interesting. For a sign, maybe the inner network feature maps react with high activation to the sign's boundary outline or to the contrast in the sign's painted symbol.\n",
    "\n",
    " Provided for you below is the function code that allows you to get the visualization output of any tensorflow weight layer you want. The inputs to the function should be a stimuli image, one used during training or a new one you provided, and then the tensorflow variable name that represents the layer's state during the training process, for instance if you wanted to see what the [LeNet lab's](https://classroom.udacity.com/nanodegrees/nd013/parts/fbf77062-5703-404e-b60c-95b78b2f3f9e/modules/6df7ae49-c61c-4bb2-a23e-6527e69209ec/lessons/601ae704-1035-4287-8b11-e2c2716217ad/concepts/d4aca031-508f-4e0b-b493-e7b706120f81) feature maps looked like for it's second convolutional layer you could enter conv2 as the tf_activation variable.\n",
    "\n",
    "For an example of what feature map outputs look like, check out NVIDIA's results in their paper [End-to-End Deep Learning for Self-Driving Cars](https://devblogs.nvidia.com/parallelforall/deep-learning-self-driving-cars/) in the section Visualization of internal CNN State. NVIDIA was able to show that their network's inner weights had high activations to road boundary lines by comparing feature maps from an image with a clear path to one without. Try experimenting with a similar test to show that your trained network's weights are looking for interesting features, whether it's looking at differences in feature maps from images with or without a sign, or even what feature maps look like in a trained network vs a completely untrained one on the same sign image.\n",
    "\n",
    "<figure>\n",
    " <img src=\"visualize_cnn.png\" width=\"380\" alt=\"Combined Image\" />\n",
    " <figcaption>\n",
    " <p></p> \n",
    " <p style=\"text-align: center;\"> Your output should look something like this (above)</p> \n",
    " </figcaption>\n",
    "</figure>\n",
    " <p></p> \n"
   ]
  },
  {
   "cell_type": "code",
   "execution_count": null,
   "metadata": {
    "collapsed": true
   },
   "outputs": [],
   "source": [
    "### Visualize your network's feature maps here.\n",
    "### Feel free to use as many code cells as needed.\n",
    "\n",
    "# image_input: the test image being fed into the network to produce the feature maps\n",
    "# tf_activation: should be a tf variable name used during your training procedure that represents the calculated state of a specific weight layer\n",
    "# activation_min/max: can be used to view the activation contrast in more detail, by default matplot sets min and max to the actual min and max values of the output\n",
    "# plt_num: used to plot out multiple different weight feature map sets on the same block, just extend the plt number for each new feature map entry\n",
    "\n",
    "def outputFeatureMap(image_input, tf_activation, activation_min=-1, activation_max=-1 ,plt_num=1):\n",
    "    # Here make sure to preprocess your image_input in a way your network expects\n",
    "    # with size, normalization, ect if needed\n",
    "    # image_input =\n",
    "    # Note: x should be the same name as your network's tensorflow data placeholder variable\n",
    "    # If you get an error tf_activation is not defined it may be having trouble accessing the variable from inside a function\n",
    "    activation = tf_activation.eval(session=sess,feed_dict={x : image_input})\n",
    "    featuremaps = activation.shape[3]\n",
    "    plt.figure(plt_num, figsize=(15,15))\n",
    "    for featuremap in range(featuremaps):\n",
    "        plt.subplot(6,8, featuremap+1) # sets the number of feature maps to show on each row and column\n",
    "        plt.title('FeatureMap ' + str(featuremap)) # displays the feature map number\n",
    "        if activation_min != -1 & activation_max != -1:\n",
    "            plt.imshow(activation[0,:,:, featuremap], interpolation=\"nearest\", vmin =activation_min, vmax=activation_max, cmap=\"gray\")\n",
    "        elif activation_max != -1:\n",
    "            plt.imshow(activation[0,:,:, featuremap], interpolation=\"nearest\", vmax=activation_max, cmap=\"gray\")\n",
    "        elif activation_min !=-1:\n",
    "            plt.imshow(activation[0,:,:, featuremap], interpolation=\"nearest\", vmin=activation_min, cmap=\"gray\")\n",
    "        else:\n",
    "            plt.imshow(activation[0,:,:, featuremap], interpolation=\"nearest\", cmap=\"gray\")"
   ]
  }
 ],
 "metadata": {
  "anaconda-cloud": {},
  "kernelspec": {
   "display_name": "Python 3",
   "language": "python",
   "name": "python3"
  },
  "language_info": {
   "codemirror_mode": {
    "name": "ipython",
    "version": 3
   },
   "file_extension": ".py",
   "mimetype": "text/x-python",
   "name": "python",
   "nbconvert_exporter": "python",
   "pygments_lexer": "ipython3",
   "version": "3.5.2"
  },
  "widgets": {
   "state": {},
   "version": "1.1.2"
  }
 },
 "nbformat": 4,
 "nbformat_minor": 1
}
